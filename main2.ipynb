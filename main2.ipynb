{
 "cells": [
  {
   "cell_type": "code",
   "execution_count": 1,
   "metadata": {},
   "outputs": [
    {
     "name": "stdout",
     "output_type": "stream",
     "text": [
      "[['1_orig', '1_refac'], ['2_orig', '2_refac'], ['3_orig', '3_refac'], ['4_orig', '4_refac'], ['5_orig', '5_refac'], ['1_orig', '2_refac'], ['1_orig', '3_refac'], ['1_orig', '4_refac']]\n"
     ]
    }
   ],
   "source": [
    "import filecmp\n",
    "\n",
    "clonepaircodes=[]\n",
    "compare1=filecmp.cmp('1_orig.txt','1_refac.txt',shallow=False)\n",
    "compare2=filecmp.cmp('2_orig.txt','2_refac.txt',shallow=False)\n",
    "compare3=filecmp.cmp('3_orig.txt','3_refac.txt',shallow=False)\n",
    "compare4=filecmp.cmp('4_orig.txt','4_refac.txt',shallow=False)\n",
    "compare5=filecmp.cmp('5_orig.txt','5_refac.txt',shallow=False)\n",
    "compare6=filecmp.cmp('1_orig.txt','2_refac.txt',shallow=False)\n",
    "compare7=filecmp.cmp('1_orig.txt','3_refac.txt',shallow=False)\n",
    "compare8=filecmp.cmp('1_orig.txt','4_refac.txt',shallow=False)\n",
    "compare9=filecmp.cmp('1_orig.txt','5_refac.txt',shallow=False)\n",
    "if compare1:\n",
    "    clonepaircodes.append(['1_orig','1_refac'])\n",
    "if compare2:\n",
    "    clonepaircodes.append(['2_orig','2_refac'])\n",
    "if compare3:\n",
    "    clonepaircodes.append(['3_orig','3_refac'])\n",
    "if compare4:\n",
    "    clonepaircodes.append(['4_orig','4_refac'])\n",
    "if compare5:\n",
    "    clonepaircodes.append(['5_orig','5_refac'])\n",
    "if compare6:\n",
    "    clonepaircodes.append(['1_orig','2_refac'])\n",
    "if compare7:\n",
    "    clonepaircodes.append(['1_orig','3_refac'])\n",
    "if compare8:\n",
    "    clonepaircodes.append(['1_orig','4_refac'])\n",
    "if compare9:\n",
    "    clonepaircodes.append(['1_orig','5_refac'])\n",
    "print(clonepaircodes)"
   ]
  },
  {
   "cell_type": "code",
   "execution_count": null,
   "metadata": {},
   "outputs": [],
   "source": []
  }
 ],
 "metadata": {
  "kernelspec": {
   "display_name": "Python 3",
   "language": "python",
   "name": "python3"
  },
  "language_info": {
   "codemirror_mode": {
    "name": "ipython",
    "version": 3
   },
   "file_extension": ".py",
   "mimetype": "text/x-python",
   "name": "python",
   "nbconvert_exporter": "python",
   "pygments_lexer": "ipython3",
   "version": "3.8.3"
  }
 },
 "nbformat": 4,
 "nbformat_minor": 4
}
